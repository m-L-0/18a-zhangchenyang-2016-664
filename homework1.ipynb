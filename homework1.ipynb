{
 "cells": [
  {
   "cell_type": "markdown",
   "metadata": {},
   "source": [
    "1. 在一个notebook文件中构建一张图，实现两个数的加法操作，并在两个不同的会话中执行图。"
   ]
  },
  {
   "cell_type": "code",
   "execution_count": 3,
   "metadata": {},
   "outputs": [
    {
     "name": "stdout",
     "output_type": "stream",
     "text": [
      "9\n",
      "9\n"
     ]
    }
   ],
   "source": [
    "import tensorflow as tf\n",
    "\n",
    "with tf.Graph().as_default() as g:\n",
    "    a = tf.add(4,5)\n",
    "\n",
    "with tf.Session(graph = g) as sess1:\n",
    "    print(sess1.run(a))\n",
    "\n",
    "with tf.Session(graph = g) as sess2:\n",
    "    print(sess2.run(a))\n",
    "    "
   ]
  },
  {
   "cell_type": "markdown",
   "metadata": {},
   "source": [
    "2.查找资料学习TensorFlow中执行常量基本运算API的基本用法，如`tf.add`、`tf.subtract`、`tf.multiply`、`tf.divide`、`tf.mod`、`tf.pow`、`tf.square`、`tf.sqrt`等的用法，并在notebook中演示其基本用法。"
   ]
  },
  {
   "cell_type": "code",
   "execution_count": 6,
   "metadata": {},
   "outputs": [
    {
     "name": "stdout",
     "output_type": "stream",
     "text": [
      "4\n"
     ]
    }
   ],
   "source": [
    "with g.as_default():\n",
    "    subtract = tf.subtract(9,5)\n",
    "\n",
    "with tf.Session(graph = g) as sess:\n",
    "    print(sess.run(subtract))"
   ]
  },
  {
   "cell_type": "markdown",
   "metadata": {},
   "source": [
    "返回x-y的元素，支持广播，返回的tensor与x具有相同的类型"
   ]
  },
  {
   "cell_type": "code",
   "execution_count": 10,
   "metadata": {},
   "outputs": [
    {
     "name": "stdout",
     "output_type": "stream",
     "text": [
      "[2 2 2]\n"
     ]
    }
   ],
   "source": [
    "with g.as_default():\n",
    "    x=[1,1,1]\n",
    "    y=[2]\n",
    "    multiply = tf.multiply(x,y)\n",
    "\n",
    "with tf.Session(graph=g) as sess:\n",
    "    print(sess.run(multiply))"
   ]
  },
  {
   "cell_type": "markdown",
   "metadata": {},
   "source": [
    "返回各元素相乘，支持广播，与x类型相同"
   ]
  },
  {
   "cell_type": "code",
   "execution_count": 12,
   "metadata": {},
   "outputs": [
    {
     "name": "stdout",
     "output_type": "stream",
     "text": [
      "1\n"
     ]
    }
   ],
   "source": [
    "with g.as_default():\n",
    "    divide = tf.div(3,2)\n",
    "    \n",
    "with tf.Session(graph = g) as sess:\n",
    "    print(sess.run(divide))\n",
    "    "
   ]
  },
  {
   "cell_type": "markdown",
   "metadata": {},
   "source": [
    "使用divide报错，提示返回1.5，不是一个tensor。使用tf.div(）返回了两数的商"
   ]
  },
  {
   "cell_type": "code",
   "execution_count": 14,
   "metadata": {},
   "outputs": [
    {
     "name": "stdout",
     "output_type": "stream",
     "text": [
      "1\n"
     ]
    }
   ],
   "source": [
    "with g.as_default():\n",
    "    mod = tf.mod(3,2)\n",
    "    \n",
    "with tf.Session(graph = g) as sess:\n",
    "    print(sess.run(mod))"
   ]
  },
  {
   "cell_type": "markdown",
   "metadata": {},
   "source": [
    "模运算，返回除法的余数"
   ]
  },
  {
   "cell_type": "code",
   "execution_count": 15,
   "metadata": {},
   "outputs": [
    {
     "name": "stdout",
     "output_type": "stream",
     "text": [
      "8\n"
     ]
    }
   ],
   "source": [
    "with g.as_default():\n",
    "    x=tf.constant(2)\n",
    "    y=tf.constant(3)\n",
    "    pow = tf.pow(x,y)\n",
    "with tf.Session(graph = g) as sess:\n",
    "    print(sess.run(pow))"
   ]
  },
  {
   "cell_type": "markdown",
   "metadata": {},
   "source": [
    "幂运算"
   ]
  },
  {
   "cell_type": "code",
   "execution_count": 16,
   "metadata": {},
   "outputs": [
    {
     "name": "stdout",
     "output_type": "stream",
     "text": [
      "9\n"
     ]
    }
   ],
   "source": [
    "with g.as_default():\n",
    "    square = tf.square(3)\n",
    "    \n",
    "with tf.Session(graph = g) as sess:\n",
    "    print(sess.run(square))"
   ]
  },
  {
   "cell_type": "markdown",
   "metadata": {},
   "source": [
    "返回操作数的平方"
   ]
  },
  {
   "cell_type": "code",
   "execution_count": 19,
   "metadata": {},
   "outputs": [
    {
     "name": "stdout",
     "output_type": "stream",
     "text": [
      "2.0\n"
     ]
    }
   ],
   "source": [
    "with g.as_default():\n",
    "    sqrt = tf.sqrt(4.)\n",
    "with tf.Session(graph = g) as sess:\n",
    "    print(sess.run(sqrt))"
   ]
  },
  {
   "cell_type": "markdown",
   "metadata": {},
   "source": [
    "返回操作数的开平方，操作数要求浮点数类型"
   ]
  },
  {
   "cell_type": "markdown",
   "metadata": {},
   "source": [
    "有一4阶张量`img`其`shape=[10, 28, 28, 3])`，代表10张28*28像素的3通道RGB图像，问：\n",
    "\n",
    "1. 如何利用索引取出第2张图片？（注意：索引均从0开始，第二张则索引为1，下同）\n",
    "2. 如何利用切片取出第2张图片？\n",
    "3. 使用切片与使用索引取出的一张图片有何不同？\n",
    "4. 如何取出其中的第1、3、5、7张图片？\n",
    "5. 如何取出第6-8张（包括6不包括8）图片中中心区域（14*14）的部分？\n",
    "6. 如何将图片根据通道拆分成三份单通道图片？\n",
    "7. 写出`tf.shape(img)`返回的张量的阶数以及`shape`属性的值。\n",
    "\n"
   ]
  },
  {
   "cell_type": "markdown",
   "metadata": {},
   "source": [
    "img[1]"
   ]
  },
  {
   "cell_type": "markdown",
   "metadata": {},
   "source": [
    "img[1,:,:,:]"
   ]
  },
  {
   "cell_type": "markdown",
   "metadata": {},
   "source": [
    "使用索引得到是原图片的副本，对索引得到的图片进行修改不会修改原图\n",
    "使用切片得到的是原图片的视图，两个张量指向同一片存储空间，对切片得到的张量修改，img也会受到影响"
   ]
  },
  {
   "cell_type": "markdown",
   "metadata": {},
   "source": [
    "split0, split1, split2, split3, split4 = tf.split(img, [2, 2, 2, 2, 2], 0)\n",
    "split0[0]\n",
    "split1[0]\n",
    "split2[0]\n",
    "split3[0]"
   ]
  },
  {
   "cell_type": "markdown",
   "metadata": {},
   "source": [
    "img[5:7,7:21,7:21,:]"
   ]
  },
  {
   "cell_type": "markdown",
   "metadata": {},
   "source": [
    "split0, split1, split2, split3 = tf.split(img, [1,1,1], 3)"
   ]
  },
  {
   "cell_type": "markdown",
   "metadata": {},
   "source": [
    "rank = 4\n",
    "shape=[10, 28, 28, 3]"
   ]
  },
  {
   "cell_type": "code",
   "execution_count": null,
   "metadata": {},
   "outputs": [],
   "source": [
    "\n",
    "\n",
    "\n",
    "\n",
    "\n",
    "\n",
    "\n",
    "\n",
    "\n",
    "\n",
    "\n",
    "\n",
    "\n",
    "\n",
    "\n",
    "\n",
    "\n",
    "\n",
    "\n",
    "\n",
    "\n"
   ]
  }
 ],
 "metadata": {
  "kernelspec": {
   "display_name": "Python 3",
   "language": "python",
   "name": "python3"
  },
  "language_info": {
   "codemirror_mode": {
    "name": "ipython",
    "version": 3
   },
   "file_extension": ".py",
   "mimetype": "text/x-python",
   "name": "python",
   "nbconvert_exporter": "python",
   "pygments_lexer": "ipython3",
   "version": "3.5.2"
  }
 },
 "nbformat": 4,
 "nbformat_minor": 2
}
