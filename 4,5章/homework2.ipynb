{
 "cells": [
  {
   "cell_type": "markdown",
   "metadata": {},
   "source": [
    "构建二元线性回归模型，其中模型中的参数使用`tf.Variable()`构建，模型的样本输入使用`tf.placeholder`代替。写出模型结构。"
   ]
  },
  {
   "cell_type": "code",
   "execution_count": 1,
   "metadata": {},
   "outputs": [],
   "source": [
    "import tensorflow as tf\n",
    "\n",
    "x1 = tf.placeholder(dtype = tf.int32,shape = [])\n",
    "x2 = tf.placeholder(dtype = tf.int32,shape = [])\n",
    "\n",
    "a = tf.Variable(1)\n",
    "b = tf.Variable(1)\n",
    "c = tf.Variable(1)\n",
    "\n",
    "\n",
    "y = tf.multiply(a,x1) + tf.multiply(b,x2) + c"
   ]
  },
  {
   "cell_type": "markdown",
   "metadata": {},
   "source": [
    "2. 使用`tf.placeholder`代替上述样本中的标记，写出对于一个样本的代价。"
   ]
  },
  {
   "cell_type": "code",
   "execution_count": 3,
   "metadata": {},
   "outputs": [],
   "source": [
    "y0 = tf.placeholder(dtype = tf.int32,shape = [])\n",
    "si = tf.square(tf.subtract(y0,y))"
   ]
  },
  {
   "cell_type": "markdown",
   "metadata": {},
   "source": [
    "总结`name_scope`与`variable_scope`的作用以及异同点。"
   ]
  },
  {
   "cell_type": "markdown",
   "metadata": {},
   "source": [
    "作用：\n",
    "name-scope 可以为其作用域中的节点的name添加前缀，同时在tensorboard可视化时可以作为一个整体出现。并且可以嵌套使用\n",
    "Variable-scope用于管理变量作用域以及与变量相关的操作，可以与tf.get_variable()等配合使用完成对变量的重复使用\n",
    "相同点：都可以给op加前缀，可管理节点的作用于\n",
    "不同点：Variable-scope不允许重用，name-scope当重用时系统会自动添加索引直"
   ]
  },
  {
   "cell_type": "markdown",
   "metadata": {},
   "source": [
    "构建逻辑回归模型（只有模型部分，不包括训练部分），使用`get_variable`与`variable_scope`将变量的创建与使用分开。提示：使用`tf.nn.sigmoid`实现`logistic`函数。"
   ]
  },
  {
   "cell_type": "code",
   "execution_count": 11,
   "metadata": {},
   "outputs": [],
   "source": [
    "tf.get_variable('varr', dtype = tf.float32, shape =[])\n",
    "\n",
    "def my_logistic(var):\n",
    "    with tf.variable_scope('scope', reuse = True) as scope:\n",
    "        var = tf.get_variable('varr')\n",
    "    return tf.sigmoid(var)"
   ]
  },
  {
   "cell_type": "code",
   "execution_count": null,
   "metadata": {},
   "outputs": [],
   "source": []
  }
 ],
 "metadata": {
  "kernelspec": {
   "display_name": "Python 3",
   "language": "python",
   "name": "python3"
  },
  "language_info": {
   "codemirror_mode": {
    "name": "ipython",
    "version": 3
   },
   "file_extension": ".py",
   "mimetype": "text/x-python",
   "name": "python",
   "nbconvert_exporter": "python",
   "pygments_lexer": "ipython3",
   "version": "3.5.2"
  }
 },
 "nbformat": 4,
 "nbformat_minor": 2
}
